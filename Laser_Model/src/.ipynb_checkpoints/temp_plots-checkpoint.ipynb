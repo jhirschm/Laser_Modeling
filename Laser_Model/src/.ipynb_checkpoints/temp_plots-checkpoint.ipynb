{
 "cells": [
  {
   "cell_type": "code",
   "execution_count": 2,
   "metadata": {},
   "outputs": [],
   "source": [
    "%matplotlib qt\n",
    "import numpy as np\n",
    "import sys\n",
    "import os\n",
    "import re\n",
    "import math\n",
    "import matplotlib.pyplot as plt\n",
    "import scipy.fftpack\n",
    "import pylab\n",
    "import h5py\n",
    "from scipy.interpolate import interp1d\n",
    "import csv\n",
    "import pandas as pd\n",
    "import ast\n",
    "from sklearn.model_selection import train_test_split\n"
   ]
  },
  {
   "cell_type": "code",
   "execution_count": 3,
   "metadata": {},
   "outputs": [],
   "source": [
    "readFilePath=\"/Users/jackhirschman/Documents/Stanford/PhD_Project/Laser_Modeling/Laser_Model/Data/Dazzler/ITO_Data/\"\n",
    "fileName = \"run1_10292020\"\n",
    "path = readFilePath + fileName + \".hdf5\"\n",
    "data = h5py.File(path,'r')"
   ]
  },
  {
   "cell_type": "code",
   "execution_count": 6,
   "metadata": {},
   "outputs": [
    {
     "data": {
      "text/plain": [
       "<bound method MappingHDF5.keys of <HDF5 group \"/Runs/run20\" (22 members)>>"
      ]
     },
     "execution_count": 6,
     "metadata": {},
     "output_type": "execute_result"
    }
   ],
   "source": [
    "wave_vec = data[\"Runs\"][\"run20\"][\"wavelength_vector\"]\n",
    "spec_in = data[\"Runs\"][\"run20\"][\"spectrum_input_wd\"]\n",
    "phase_in = data[\"Runs\"][\"run20\"][\"phase_input_wd\"]\n",
    "spec_trans = data[\"Runs\"][\"run20\"][\"spectrum_transfer_wd\"]\n",
    "phase_trans = data[\"Runs\"][\"run20\"][\"phase_transfer_wd\"]\n"
   ]
  },
  {
   "cell_type": "code",
   "execution_count": null,
   "metadata": {},
   "outputs": [],
   "source": []
  }
 ],
 "metadata": {
  "kernelspec": {
   "display_name": "Python 3",
   "language": "python",
   "name": "python3"
  },
  "language_info": {
   "codemirror_mode": {
    "name": "ipython",
    "version": 3
   },
   "file_extension": ".py",
   "mimetype": "text/x-python",
   "name": "python",
   "nbconvert_exporter": "python",
   "pygments_lexer": "ipython3",
   "version": "3.7.7"
  }
 },
 "nbformat": 4,
 "nbformat_minor": 4
}
