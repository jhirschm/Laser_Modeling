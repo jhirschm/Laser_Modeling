{
 "cells": [
  {
   "cell_type": "code",
   "execution_count": 2,
   "metadata": {},
   "outputs": [],
   "source": [
    "%matplotlib qt\n",
    "import numpy as np\n",
    "import sys\n",
    "import os\n",
    "import re\n",
    "import math\n",
    "import matplotlib.pyplot as plt\n",
    "import scipy.fftpack\n",
    "import pylab\n",
    "import h5py\n",
    "from scipy.interpolate import interp1d\n",
    "import csv\n",
    "import pandas as pd\n",
    "import ast\n",
    "from sklearn.model_selection import train_test_split\n"
   ]
  },
  {
   "cell_type": "code",
   "execution_count": 3,
   "metadata": {},
   "outputs": [],
   "source": [
    "readFilePath=\"/Users/jackhirschman/Documents/Stanford/PhD_Project/Laser_Modeling/Laser_Model/Data/Dazzler/ITO_Data/\"\n",
    "fileName = \"run1_10292020\"\n",
    "path = readFilePath + fileName + \".hdf5\"\n",
    "data = h5py.File(path,'r')"
   ]
  },
  {
   "cell_type": "code",
   "execution_count": 33,
   "metadata": {},
   "outputs": [],
   "source": [
    "wave_vec = data[\"Runs\"][\"run20\"][\"wavelength_vector\"][()]*1e9\n",
    "spec_in = data[\"Runs\"][\"run20\"][\"spectrum_input_wd\"]\n",
    "phase_in = data[\"Runs\"][\"run20\"][\"phase_input_wd\"]\n",
    "spec_trans = data[\"Runs\"][\"run20\"][\"spectrum_transfer_wd\"]\n",
    "phase_trans = data[\"Runs\"][\"run20\"][\"phase_transfer_wd\"]\n",
    "spec_out = data[\"Runs\"][\"run20\"][\"spectrum_output_wd\"]\n",
    "phase_out = data[\"Runs\"][\"run20\"][\"phase_output_wd\"]\n",
    "params = data[\"Runs\"][\"run20\"][\"DazzlerParams\"][()]"
   ]
  },
  {
   "cell_type": "code",
   "execution_count": 35,
   "metadata": {},
   "outputs": [
    {
     "data": {
      "text/plain": [
       "\"{'lam1': 7.21e-07, 'del_lam1': 7.4e-08, 'k': 0.89, 'a1': 3.584e-12, 'a2': -8.814300000000001e-26, 'a3': 7.136250000000002e-40, 'a4': 5.404599000000002e-53, 'lam0': 8e-07, 'del_lam0': 1.04368496e-07}\""
      ]
     },
     "execution_count": 35,
     "metadata": {},
     "output_type": "execute_result"
    }
   ],
   "source": [
    "fig, axs = plt.subplots(2,3)\n",
    "axs[0,0].plot(wave_vec, spec_in)\n",
    "axs[0,0].set_title('Spectrum Input')\n",
    "axs[0,1].plot(wave_vec, spec_trans)\n",
    "axs[0,1].set_title('Spectrum Transfer')\n",
    "axs[0,2].plot(wave_vec, spec_out)\n",
    "axs[0,2].set_title('Spectrum Output')\n",
    "axs[1,0].plot(wave_vec, phase_in)\n",
    "axs[1,0].set_title('Phase Input')\n",
    "axs[1,1].plot(wave_vec, phase_trans)\n",
    "axs[1,1].set_title('Phase Transfer')\n",
    "axs[1,2].plot(wave_vec, phase_out)\n",
    "axs[1,2].set_title('Phase Output')\n",
    "for ax in axs.flat:\n",
    "    ax.set(xlabel='wavelength (nm)', ylabel='arb')\n",
    "params"
   ]
  },
  {
   "cell_type": "code",
   "execution_count": 43,
   "metadata": {},
   "outputs": [
    {
     "data": {
      "text/plain": [
       "\"{'lam1': 8.37e-07, 'del_lam1': 9.400000000000001e-08, 'k': 0.75, 'a1': 1.3230000000000001e-12, 'a2': -7.311e-26, 'a3': 1.1825900000000004e-40, 'a4': 5.592056900000001e-53, 'lam0': 8e-07, 'del_lam0': 1.04368496e-07}\""
      ]
     },
     "execution_count": 43,
     "metadata": {},
     "output_type": "execute_result"
    }
   ],
   "source": [
    "ind = 100\n",
    "wave_vec = data[\"Runs\"][\"run\"+str(ind)][\"wavelength_vector\"][()]*1e9\n",
    "spec_in = data[\"Runs\"][\"run\"+str(ind)][\"spectrum_input_wd\"]\n",
    "phase_in = data[\"Runs\"][\"run\"+str(ind)][\"phase_input_wd\"]\n",
    "spec_trans = data[\"Runs\"][\"run\"+str(ind)][\"spectrum_transfer_wd\"]\n",
    "phase_trans = data[\"Runs\"][\"run\"+str(ind)][\"phase_transfer_wd\"]\n",
    "spec_out = data[\"Runs\"][\"run\"+str(ind)][\"spectrum_output_wd\"]\n",
    "phase_out = data[\"Runs\"][\"run\"+str(ind)][\"phase_output_wd\"]\n",
    "params = data[\"Runs\"][\"run\"+str(ind)][\"DazzlerParams\"][()]\n",
    "fig, axs = plt.subplots(2,3)\n",
    "axs[0,0].plot(wave_vec, spec_in)\n",
    "axs[0,0].set_title('Spectrum Input')\n",
    "axs[0,1].plot(wave_vec, spec_trans)\n",
    "axs[0,1].set_title('Spectrum Transfer')\n",
    "axs[0,2].plot(wave_vec, spec_out)\n",
    "axs[0,2].set_title('Spectrum Output')\n",
    "axs[1,0].plot(wave_vec, phase_in)\n",
    "axs[1,0].set_title('Phase Input')\n",
    "axs[1,1].plot(wave_vec, phase_trans)\n",
    "axs[1,1].set_title('Phase Transfer')\n",
    "axs[1,2].plot(wave_vec, phase_out)\n",
    "axs[1,2].set_title('Phase Output')\n",
    "for ax in axs.flat:\n",
    "    ax.set(xlabel='wavelength (nm)', ylabel='arb')\n",
    "params"
   ]
  },
  {
   "cell_type": "code",
   "execution_count": null,
   "metadata": {},
   "outputs": [],
   "source": []
  }
 ],
 "metadata": {
  "kernelspec": {
   "display_name": "Python 3",
   "language": "python",
   "name": "python3"
  },
  "language_info": {
   "codemirror_mode": {
    "name": "ipython",
    "version": 3
   },
   "file_extension": ".py",
   "mimetype": "text/x-python",
   "name": "python",
   "nbconvert_exporter": "python",
   "pygments_lexer": "ipython3",
   "version": "3.7.7"
  }
 },
 "nbformat": 4,
 "nbformat_minor": 4
}
